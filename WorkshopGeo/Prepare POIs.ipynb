{
 "cells": [
  {
   "cell_type": "markdown",
   "id": "e3e79fe3-ef75-4e4e-aba2-e56b0ecf0a30",
   "metadata": {},
   "source": [
    "# Get Point of Interest Data"
   ]
  },
  {
   "cell_type": "code",
   "execution_count": null,
   "id": "b145519a",
   "metadata": {},
   "outputs": [],
   "source": [
    "!pip install geopandas"
   ]
  },
  {
   "cell_type": "code",
   "execution_count": 1,
   "id": "3b4c2204-dcfd-4473-8004-cf322cfbe7c5",
   "metadata": {},
   "outputs": [
    {
     "name": "stderr",
     "output_type": "stream",
     "text": [
      "ERROR 1: PROJ: proj_create_from_database: Open of /opt/conda/share/proj failed\n"
     ]
    }
   ],
   "source": [
    "# If you see the error `ERROR 1: PROJ: proj_create_from_database: Open of /opt/conda/share/proj failed` this can be ignored.\n",
    "import os\n",
    "import datetime as dt\n",
    "from pathlib import Path\n",
    "\n",
    "import matplotlib.pyplot as plt\n",
    "import pandas as pd\n",
    "import geopandas\n",
    "import shapely"
   ]
  },
  {
   "cell_type": "markdown",
   "id": "12cc51f2-fbe9-4c31-84ef-b7c8a4760c14",
   "metadata": {},
   "source": [
    "## Download data\n",
    "\n",
    "Download Point of Interest (POI) data, prepared by Geofabrik: http://download.geofabrik.de/africa/south-africa.html (also see the [different locations](http://download.geofabrik.de/index.html) available)."
   ]
  },
  {
   "cell_type": "code",
   "execution_count": null,
   "id": "c2a43b8b-763f-4da5-a967-e4cc9aafe672",
   "metadata": {},
   "outputs": [],
   "source": [
    "!wget http://download.geofabrik.de/africa/south-africa-latest-free.shp.zip"
   ]
  },
  {
   "cell_type": "code",
   "execution_count": null,
   "id": "845aa306-6b62-4281-914c-a9f8a9ab40b9",
   "metadata": {},
   "outputs": [],
   "source": [
    "!mkdir -p south-africa-latest-free.shp\n",
    "!unzip south-africa-latest-free.shp.zip -d south-africa-latest-free.shp"
   ]
  },
  {
   "cell_type": "markdown",
   "id": "e54ec3d0-eb46-4b73-a666-b1058014fcb0",
   "metadata": {},
   "source": [
    "## Filter data down to our Area of Interest (AOI)"
   ]
  },
  {
   "cell_type": "code",
   "execution_count": 36,
   "id": "0ba071bb-808a-4f76-a5d9-620b03c4cb52",
   "metadata": {},
   "outputs": [],
   "source": [
    "# read in shape from WKT file  with our AOI\n",
    "WKT_FILE = 'Port_Elizabeth.wkt'\n",
    "\n",
    "with open(WKT_FILE) as f:\n",
    "    wkt = f.read()\n",
    "    \n",
    "shape = shapely.wkt.loads(wkt)"
   ]
  },
  {
   "cell_type": "code",
   "execution_count": 37,
   "id": "fa25877c-ed23-49b5-a448-150067362ab2",
   "metadata": {},
   "outputs": [],
   "source": [
    "# Path to Geofabrik shp files folder\n",
    "GEOFDIR = Path('south-africa-latest-free.shp/')"
   ]
  },
  {
   "cell_type": "code",
   "execution_count": 38,
   "id": "cfd23b9a-ef0d-4a8a-ae31-6d81441923b3",
   "metadata": {},
   "outputs": [],
   "source": [
    "# read in all POIs from file\n",
    "gdf = geopandas.read_file(GEOFDIR / 'gis_osm_pois_free_1.shp')"
   ]
  },
  {
   "cell_type": "code",
   "execution_count": 39,
   "id": "6e928e36-5578-42df-9508-b3c759027adf",
   "metadata": {},
   "outputs": [],
   "source": [
    "# select only those inside our AOI\n",
    "aoi_gdf = gdf[gdf.within(shape)].reset_index(drop=True)"
   ]
  },
  {
   "cell_type": "code",
   "execution_count": 40,
   "id": "bb21134b-0872-44bb-9c9e-b1d1f2644078",
   "metadata": {},
   "outputs": [
    {
     "data": {
      "image/png": "[encoded data removed]",
      "text/plain": [
       "<Figure size 432x288 with 1 Axes>"
      ]
     },
     "metadata": {
      "needs_background": "light"
     },
     "output_type": "display_data"
    }
   ],
   "source": [
    "aoi_gdf.plot()\n",
    "plt.title(\"POIs in the area of PE from OSM/Geofabrik\")\n",
    "plt.show()"
   ]
  },
  {
   "cell_type": "code",
   "execution_count": 41,
   "id": "b33fc9ce-a5a3-4f5c-a5bb-b7b7cf2c83d1",
   "metadata": {},
   "outputs": [
    {
     "data": {
      "text/plain": [
       "1058"
      ]
     },
     "execution_count": 41,
     "metadata": {},
     "output_type": "execute_result"
    }
   ],
   "source": [
    "len(aoi_gdf) # amount of POIs in area "
   ]
  },
  {
   "cell_type": "code",
   "execution_count": 42,
   "id": "d2278d19-6981-44ba-abae-fd74e30e9077",
   "metadata": {},
   "outputs": [
    {
     "data": {
      "text/plain": [
       "swimming_pool     159\n",
       "guesthouse        139\n",
       "restaurant         88\n",
       "fast_food          60\n",
       "supermarket        41\n",
       "cafe               39\n",
       "school             30\n",
       "convenience        30\n",
       "atm                25\n",
       "bank               23\n",
       "hotel              20\n",
       "pharmacy           20\n",
       "clothes            19\n",
       "beverages          18\n",
       "post_box           16\n",
       "pub                15\n",
       "car_dealership     15\n",
       "telephone          14\n",
       "bar                13\n",
       "sports_centre      13\n",
       "Name: fclass, dtype: int64"
      ]
     },
     "execution_count": 42,
     "metadata": {},
     "output_type": "execute_result"
    }
   ],
   "source": [
    "# top 20 categories available in PE\n",
    "aoi_gdf['fclass'].value_counts().head(20)"
   ]
  },
  {
   "cell_type": "code",
   "execution_count": 43,
   "id": "aba2f452-351d-4030-9a4b-533aa8febcb6",
   "metadata": {},
   "outputs": [
    {
     "name": "stderr",
     "output_type": "stream",
     "text": [
      "/opt/homebrew/lib/python3.9/site-packages/geopandas/io/file.py:362: FutureWarning: pandas.Int64Index is deprecated and will be removed from pandas in a future version. Use pandas.Index with the appropriate dtype instead.\n",
      "  pd.Int64Index,\n"
     ]
    }
   ],
   "source": [
    "# Save to geojson file we can use in MARS\n",
    "res = Path(\"./GeodataBlueprint/Resources\")\n",
    "res.mkdir(parents=True, exist_ok=True)\n",
    "\n",
    "# if the file already exists make a backup\n",
    "if (res / 'pois.geojson').is_file():\n",
    "    now = dt.datetime.now()\n",
    "    os.rename(res / 'pois.geojson', res / f'bkp_pois_{now.strftime(\"%Y%m%d_%H%M%S\")}.geojson')\n",
    "\n",
    "aoi_gdf.to_file(res / \"pois.geojson\", driver=\"GeoJSON\")"
   ]
  }
 ],
 "metadata": {
  "kernelspec": {
   "display_name": "Python 3 (ipykernel)",
   "language": "python",
   "name": "python3"
  },
  "language_info": {
   "codemirror_mode": {
    "name": "ipython",
    "version": 3
   },
   "file_extension": ".py",
   "mimetype": "text/x-python",
   "name": "python",
   "nbconvert_exporter": "python",
   "pygments_lexer": "ipython3",
   "version": "3.10.4"
  }
 },
 "nbformat": 4,
 "nbformat_minor": 5
}
